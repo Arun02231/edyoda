{
 "cells": [
  {
   "cell_type": "code",
   "execution_count": 9,
   "metadata": {},
   "outputs": [
    {
     "name": "stdout",
     "output_type": "stream",
     "text": [
      "hello mworld\n"
     ]
    }
   ],
   "source": [
    "print('hello mworld')"
   ]
  },
  {
   "cell_type": "markdown",
   "metadata": {},
   "source": [
    "## Python"
   ]
  },
  {
   "cell_type": "raw",
   "metadata": {},
   "source": [
    "#green==>code/text\n",
    "#blue==>in command mode (you can't type in that mode)\n",
    "by pressing esc you can enter into cmd\n",
    "\n",
    "use:\n",
    "    cmd is used to delete a cell\n",
    "       how:\n",
    "          1)go to cmd and press d and d\n",
    "          2)convert a cell into mark down/raw notebook\n",
    "          by clicking the cell cmd==>code\n",
    "          3)we can do another but no need for us.\n",
    "IN:\n",
    "      \n",
    "          \n",
    "          \n",
    "          \n",
    "          \n"
   ]
  },
  {
   "cell_type": "markdown",
   "metadata": {},
   "source": [
    "Mark down:\n",
    "\n",
    "    it's a mark down box the cell no longer used for coding but it's used as personalized text box like html\n",
    "    \n",
    "# heading1\n",
    "## heading2\n",
    "### heading3\n",
    "#### heading4\n",
    "#### heading 5\n",
    "##### heading6\n",
    "###### headin\n",
    "\n",
    "--> this is used to write beautifull notes like links images,bold text and many"
   ]
  },
  {
   "cell_type": "code",
   "execution_count": 16,
   "metadata": {},
   "outputs": [
    {
     "name": "stdout",
     "output_type": "stream",
     "text": [
      "hello world\n"
     ]
    }
   ],
   "source": [
    "print('hello world') #to execute shift+enter execute the current cell and insert a new cell"
   ]
  },
  {
   "cell_type": "code",
   "execution_count": 19,
   "metadata": {},
   "outputs": [
    {
     "name": "stdout",
     "output_type": "stream",
     "text": [
      "\n"
     ]
    }
   ],
   "source": [
    "print()#you can use for printimg"
   ]
  },
  {
   "cell_type": "code",
   "execution_count": 20,
   "metadata": {},
   "outputs": [
    {
     "name": "stdout",
     "output_type": "stream",
     "text": [
      "my name is arunkumar\n"
     ]
    }
   ],
   "source": [
    "print('my name is arunkumar')"
   ]
  },
  {
   "cell_type": "code",
   "execution_count": 21,
   "metadata": {},
   "outputs": [
    {
     "name": "stdout",
     "output_type": "stream",
     "text": [
      "my name is arunkumar\n"
     ]
    }
   ],
   "source": [
    "print(\"my name is arunkumar\")"
   ]
  },
  {
   "cell_type": "code",
   "execution_count": 22,
   "metadata": {},
   "outputs": [
    {
     "name": "stdout",
     "output_type": "stream",
     "text": [
      "100\n"
     ]
    }
   ],
   "source": [
    "print(100)"
   ]
  },
  {
   "cell_type": "code",
   "execution_count": 24,
   "metadata": {},
   "outputs": [
    {
     "name": "stdout",
     "output_type": "stream",
     "text": [
      "100 200 300\n"
     ]
    }
   ],
   "source": [
    "print(100,200,300)"
   ]
  },
  {
   "cell_type": "markdown",
   "metadata": {},
   "source": [
    ", is not a comma #it's a value seperator"
   ]
  },
  {
   "cell_type": "markdown",
   "metadata": {},
   "source": [
    "# Data types"
   ]
  },
  {
   "cell_type": "markdown",
   "metadata": {},
   "source": [
    "## integers"
   ]
  },
  {
   "cell_type": "markdown",
   "metadata": {},
   "source": [
    "integers are numbers those are whole numbers like a 10,203,40 they don't have a decimal number\n"
   ]
  },
  {
   "cell_type": "markdown",
   "metadata": {},
   "source": [
    "Sring:\n",
    "    strings:text or group of characters\n",
    "        1)you can use single cote 'hi my name is arun kumar'\n",
    "        2)you can use double quote\"my name is arun kumar\"\n",
    "        3)you can use both \"i'm good\"\n",
    "        4)strings like sentence and text\n",
    "        5)thriple quotes:for pharagraps  #\"\"\"hi my n\"ame is \"\"\"\n",
    "list:\n",
    "    are nothing but collection of various objects. \n",
    "    collection of things like a ration list\n",
    "    ex:['arun',21,'seethampeta',99,44.88,['kumar']]\n",
    "Tuple:\n",
    "    also a collection like list but immutable\n",
    "    you made one list and you can't edit\n",
    "    we are using ()\n",
    "    ex:('arun',21,'kumar','seethampeta')\n",
    "        it's a like read only\n",
    "dict:\n",
    "    collection with key value pairs\n",
    "    #store the data reagarding particular thing\n",
    "    example:student marks:#it's like alock when you apply the key we eill get the value but so many keys and values\n",
    "         students= {'arun':99.'raju':85,'prashanth':90}  : is used to assign a value to the key and , is used to seperate the key value pairs\n",
    "     so from above it's a dictionary if we give key it gives you a value reagrding that particular key \n",
    "         students['arun']==>99\n",
    "why do we need data types:\n",
    "    you want to sahre the data so we need to store the data in order to store the data efficiently we need this data types\n",
    "    \n",
    "    we have stored the marks:\n",
    "        from that we can learn that we need a value to the paricularb thing so dict is efficient\n",
    "    to sore the percentage we need to float for multiple we need tuple for multiple u need a collection\n",
    " set:\n",
    " set are like a list with unique objects\n",
    "       exaple is below\n",
    "       \n",
    "se={'arun',1,2,3,4,'zebra','arun','kumar','arun'}\n",
    "if you run above cell the ouput is //{1, 2, 3, 4, 'arun', 'kumar', 'zebra'}\n",
    "it printed with unique elemtes and alphabetically\n",
    "kindly have a look at the below examples\n",
    "       \n",
    "        \n",
    "    \n",
    "        \n",
    "    "
   ]
  },
  {
   "cell_type": "code",
   "execution_count": 45,
   "metadata": {},
   "outputs": [
    {
     "data": {
      "text/plain": [
       "'hi my n\"ame is '"
      ]
     },
     "execution_count": 45,
     "metadata": {},
     "output_type": "execute_result"
    }
   ],
   "source": [
    "\"\"\"hi my n\"ame is \"\"\""
   ]
  },
  {
   "cell_type": "code",
   "execution_count": 46,
   "metadata": {},
   "outputs": [
    {
     "data": {
      "text/plain": [
       "['arun', 21, 'seethampeta', 99, 44.88, ['kumar']]"
      ]
     },
     "execution_count": 46,
     "metadata": {},
     "output_type": "execute_result"
    }
   ],
   "source": [
    "['arun',21,'seethampeta',99,44.88,['kumar']]"
   ]
  },
  {
   "cell_type": "code",
   "execution_count": 47,
   "metadata": {},
   "outputs": [],
   "source": [
    "se={'arun',1,2,3,4,'zebra','arun','kumar','arun'}"
   ]
  },
  {
   "cell_type": "code",
   "execution_count": 48,
   "metadata": {},
   "outputs": [
    {
     "data": {
      "text/plain": [
       "{1, 2, 3, 4, 'arun', 'kumar', 'zebra'}"
      ]
     },
     "execution_count": 48,
     "metadata": {},
     "output_type": "execute_result"
    }
   ],
   "source": [
    "se"
   ]
  },
  {
   "cell_type": "code",
   "execution_count": 49,
   "metadata": {},
   "outputs": [
    {
     "data": {
      "text/plain": [
       "{1, 2, 3, 4, 'arun', 'kumar', 'zebra'}"
      ]
     },
     "execution_count": 49,
     "metadata": {},
     "output_type": "execute_result"
    }
   ],
   "source": [
    "se"
   ]
  },
  {
   "cell_type": "code",
   "execution_count": 50,
   "metadata": {},
   "outputs": [
    {
     "data": {
      "text/plain": [
       "{1, 2, 3, 4, 'arun', 'kumar', 'zebra'}"
      ]
     },
     "execution_count": 50,
     "metadata": {},
     "output_type": "execute_result"
    }
   ],
   "source": [
    "se\n"
   ]
  },
  {
   "cell_type": "code",
   "execution_count": null,
   "metadata": {},
   "outputs": [],
   "source": []
  }
 ],
 "metadata": {
  "kernelspec": {
   "display_name": "Python 3",
   "language": "python",
   "name": "python3"
  },
  "language_info": {
   "codemirror_mode": {
    "name": "ipython",
    "version": 3
   },
   "file_extension": ".py",
   "mimetype": "text/x-python",
   "name": "python",
   "nbconvert_exporter": "python",
   "pygments_lexer": "ipython3",
   "version": "3.8.3"
  }
 },
 "nbformat": 4,
 "nbformat_minor": 4
}
